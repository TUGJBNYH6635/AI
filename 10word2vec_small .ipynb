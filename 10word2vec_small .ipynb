{
  "nbformat": 4,
  "nbformat_minor": 0,
  "metadata": {
    "colab": {
      "name": "10word2vec_small.ipynb",
      "provenance": [],
      "collapsed_sections": []
    },
    "kernelspec": {
      "name": "python3",
      "display_name": "Python 3"
    },
    "accelerator": "GPU"
  },
  "cells": [
    {
      "cell_type": "code",
      "metadata": {
        "id": "y4pHBLtLY6oM",
        "colab_type": "code",
        "outputId": "602c56aa-922e-4ae7-b8ee-c33e75163687",
        "colab": {
          "base_uri": "https://localhost:8080/",
          "height": 492
        }
      },
      "source": [
        "#下載抓這個檔案\n",
        "!wget https://raw.githubusercontent.com/joshhu/must_examples/master/my_seg_small.txt\n",
        "\n",
        "#導入函式庫\n",
        "import sys\n",
        "from gensim.models import word2vec\n",
        "from gensim import models\n",
        "#將語料庫處理：一行一個句子，將文檔或句子進行分詞\n",
        "sentences = word2vec.LineSentence(\"my_seg_small.txt\")#將原始的訓練語料轉化成一個sentence的選代器，每一次進行word（utf8格式）的返回動作列表\n",
        "#size決定向量維度,min_count可對字典做截斷，少於1就丟棄,negative設置多少個noise words\n",
        "model = word2vec.Word2Vec(sentences, size=5, min_count=1, negative=10)\n",
        "#載入模型\n",
        "model.save('word2vec.model')\n",
        "#只想要儲存模型的參數，不包含模型本身，可以使用 save_weights\n",
        "model.wv.save_word2vec_format('word2vec.model', binary = False)\n",
        "print('done')\n",
        "\n",
        "#輸入參數\n",
        "input_str = \"台北\"\n",
        "res = model.wv.most_similar(input_str)\n",
        "for item in res: \n",
        "      print(item[0] + ':' + str(item[1]))"
      ],
      "execution_count": 6,
      "outputs": [
        {
          "output_type": "stream",
          "text": [
            "--2020-04-23 09:17:52--  https://raw.githubusercontent.com/joshhu/must_examples/master/my_seg_small.txt\n",
            "Resolving raw.githubusercontent.com (raw.githubusercontent.com)... 151.101.0.133, 151.101.64.133, 151.101.128.133, ...\n",
            "Connecting to raw.githubusercontent.com (raw.githubusercontent.com)|151.101.0.133|:443... connected.\n",
            "HTTP request sent, awaiting response... 200 OK\n",
            "Length: 398 [text/plain]\n",
            "Saving to: ‘my_seg_small.txt.3’\n",
            "\n",
            "\rmy_seg_small.txt.3    0%[                    ]       0  --.-KB/s               \rmy_seg_small.txt.3  100%[===================>]     398  --.-KB/s    in 0s      \n",
            "\n",
            "2020-04-23 09:17:52 (84.5 MB/s) - ‘my_seg_small.txt.3’ saved [398/398]\n",
            "\n",
            "done\n",
            "帝都:0.7195426225662231\n",
            "北京:0.7068967819213867\n",
            "烤鴨:0.483530193567276\n",
            "飯:0.28708478808403015\n",
            "吃下午茶:0.011579036712646484\n",
            "下午茶:-0.23750820755958557\n",
            "上海:-0.3038172125816345\n",
            "玩:-0.7816439867019653\n",
            "吃:-0.8226717710494995\n"
          ],
          "name": "stdout"
        },
        {
          "output_type": "stream",
          "text": [
            "/usr/local/lib/python3.6/dist-packages/smart_open/smart_open_lib.py:253: UserWarning: This function is deprecated, use smart_open.open instead. See the migration notes for details: https://github.com/RaRe-Technologies/smart_open/blob/master/README.rst#migrating-to-the-new-open-function\n",
            "  'See the migration notes for details: %s' % _MIGRATION_NOTES_URL\n",
            "/usr/local/lib/python3.6/dist-packages/gensim/matutils.py:737: FutureWarning: Conversion of the second argument of issubdtype from `int` to `np.signedinteger` is deprecated. In future, it will be treated as `np.int64 == np.dtype(int).type`.\n",
            "  if np.issubdtype(vec.dtype, np.int):\n"
          ],
          "name": "stderr"
        }
      ]
    },
    {
      "cell_type": "code",
      "metadata": {
        "id": "IgkuuENb-FrR",
        "colab_type": "code",
        "colab": {}
      },
      "source": [
        ""
      ],
      "execution_count": 0,
      "outputs": []
    }
  ]
}