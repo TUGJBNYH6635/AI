{
  "nbformat": 4,
  "nbformat_minor": 0,
  "metadata": {
    "colab": {
      "name": "MNIST_CNN0416_NEW.ipynb",
      "provenance": [],
      "collapsed_sections": []
    },
    "kernelspec": {
      "name": "python3",
      "display_name": "Python 3"
    },
    "accelerator": "GPU"
  },
  "cells": [
    {
      "cell_type": "code",
      "metadata": {
        "id": "y4pHBLtLY6oM",
        "colab_type": "code",
        "outputId": "b9b87bcc-4e31-404f-fc8a-e3b36f32335c",
        "colab": {
          "base_uri": "https://localhost:8080/",
          "height": 731
        }
      },
      "source": [
        "import keras\n",
        "from keras.models import Sequential\n",
        "from keras.layers import Dense, Dropout, Activation\n",
        "from keras.optimizers import SGD\n",
        "\n",
        "# Generate dummy data\n",
        "import numpy as np\n",
        "\n",
        "#隨機產生1000筆資料，每筆資料1包含十個float數字\n",
        "x_train = np.random.random((1000, 10))\n",
        "#隨機產生1000筆資料，每筆資料上限為10\n",
        "y_train = keras.utils.to_categorical(np.random.randint(10, size=(1000, 1)), num_classes=10)\n",
        "\n",
        "x_test = np.random.random((100, 10))\n",
        "y_test = keras.utils.to_categorical(np.random.randint(10, size=(100, 1)), num_classes=10)\n",
        "\n",
        "model = Sequential()\n",
        "model.add(Dense(64, activation='relu', input_dim=10))\n",
        "model.add(Dense(64, activation='relu'))\n",
        "model.add(Dense(10, activation='softmax'))\n",
        "sgd = SGD(lr=0.01, decay=1e-6, momentum=0.9, nesterov=True)\n",
        "model.compile(loss='categorical_crossentropy', optimizer=sgd, metrics=['accuracy'])\n",
        "\n",
        "model.fit(x_train, y_train, epochs=20, batch_size=128)\n",
        "score = model.evaluate(x_test, y_test, batch_size=128)\n",
        "print(score)"
      ],
      "execution_count": 5,
      "outputs": [
        {
          "output_type": "stream",
          "text": [
            "Epoch 1/20\n",
            "1000/1000 [==============================] - 0s 74us/step - loss: 2.3211 - accuracy: 0.1040\n",
            "Epoch 2/20\n",
            "1000/1000 [==============================] - 0s 21us/step - loss: 2.3112 - accuracy: 0.1000\n",
            "Epoch 3/20\n",
            "1000/1000 [==============================] - 0s 22us/step - loss: 2.3048 - accuracy: 0.1020\n",
            "Epoch 4/20\n",
            "1000/1000 [==============================] - 0s 22us/step - loss: 2.3000 - accuracy: 0.1040\n",
            "Epoch 5/20\n",
            "1000/1000 [==============================] - 0s 22us/step - loss: 2.2976 - accuracy: 0.1120\n",
            "Epoch 6/20\n",
            "1000/1000 [==============================] - 0s 20us/step - loss: 2.2960 - accuracy: 0.1140\n",
            "Epoch 7/20\n",
            "1000/1000 [==============================] - 0s 26us/step - loss: 2.2948 - accuracy: 0.1220\n",
            "Epoch 8/20\n",
            "1000/1000 [==============================] - 0s 21us/step - loss: 2.2936 - accuracy: 0.1200\n",
            "Epoch 9/20\n",
            "1000/1000 [==============================] - 0s 22us/step - loss: 2.2926 - accuracy: 0.1270\n",
            "Epoch 10/20\n",
            "1000/1000 [==============================] - 0s 23us/step - loss: 2.2917 - accuracy: 0.1290\n",
            "Epoch 11/20\n",
            "1000/1000 [==============================] - 0s 22us/step - loss: 2.2908 - accuracy: 0.1300\n",
            "Epoch 12/20\n",
            "1000/1000 [==============================] - 0s 23us/step - loss: 2.2901 - accuracy: 0.1300\n",
            "Epoch 13/20\n",
            "1000/1000 [==============================] - 0s 22us/step - loss: 2.2892 - accuracy: 0.1410\n",
            "Epoch 14/20\n",
            "1000/1000 [==============================] - 0s 22us/step - loss: 2.2887 - accuracy: 0.1390\n",
            "Epoch 15/20\n",
            "1000/1000 [==============================] - 0s 21us/step - loss: 2.2880 - accuracy: 0.1380\n",
            "Epoch 16/20\n",
            "1000/1000 [==============================] - 0s 20us/step - loss: 2.2872 - accuracy: 0.1390\n",
            "Epoch 17/20\n",
            "1000/1000 [==============================] - 0s 22us/step - loss: 2.2864 - accuracy: 0.1410\n",
            "Epoch 18/20\n",
            "1000/1000 [==============================] - 0s 21us/step - loss: 2.2857 - accuracy: 0.1510\n",
            "Epoch 19/20\n",
            "1000/1000 [==============================] - 0s 21us/step - loss: 2.2853 - accuracy: 0.1470\n",
            "Epoch 20/20\n",
            "1000/1000 [==============================] - 0s 21us/step - loss: 2.2847 - accuracy: 0.1440\n",
            "100/100 [==============================] - 0s 328us/step\n",
            "[2.316772937774658, 0.07000000029802322]\n"
          ],
          "name": "stdout"
        }
      ]
    }
  ]
}