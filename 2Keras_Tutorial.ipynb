{
  "nbformat": 4,
  "nbformat_minor": 0,
  "metadata": {
    "colab": {
      "name": "MNIST_CNN0416_NEW.ipynb",
      "provenance": [],
      "collapsed_sections": []
    },
    "kernelspec": {
      "name": "python3",
      "display_name": "Python 3"
    },
    "accelerator": "GPU"
  },
  "cells": [
    {
      "cell_type": "code",
      "metadata": {
        "id": "y4pHBLtLY6oM",
        "colab_type": "code",
        "outputId": "4e02ff3d-ee80-47f8-94bb-18324fea774d",
        "colab": {
          "base_uri": "https://localhost:8080/",
          "height": 476
        }
      },
      "source": [
        "import keras\n",
        "from keras.models import Sequential\n",
        "from keras.layers import Dense\n",
        "\n",
        "import numpy as np\n",
        "data = np.random.random((1000, 10)) #隨機產生1000筆資料，每筆資料1包含十個float數字\n",
        "labels = np.random.randint(2, size=(1000, 1)) #隨機產生1000筆資料，每筆資料上限為2(意思就是0 或 1)\n",
        "print(np.shape(data))\n",
        "print(data[0])\n",
        "print(np.shape(labels))\n",
        "print(labels[0])\n",
        "\n",
        "model = Sequential()\n",
        "model.add(Dense(32, activation='relu', input_dim=10))\n",
        "model.add(Dense(1, activation='sigmoid'))\n",
        "model.compile(optimizer='rmsprop', loss='binary_crossentropy', metrics=['accuracy'])\n",
        "\n",
        "model.fit(data, labels, epochs=10, batch_size=32)\n",
        "\n",
        "score=model.evaluate(data, labels)\n",
        "print(score[1])"
      ],
      "execution_count": 4,
      "outputs": [
        {
          "output_type": "stream",
          "text": [
            "(1000, 10)\n",
            "[0.67782314 0.19975323 0.81021805 0.92498106 0.47264119 0.3110918\n",
            " 0.92725522 0.92311162 0.30913994 0.2806311 ]\n",
            "(1000, 1)\n",
            "[1]\n",
            "Epoch 1/10\n",
            "1000/1000 [==============================] - 0s 146us/step - loss: 0.6988 - accuracy: 0.4920\n",
            "Epoch 2/10\n",
            "1000/1000 [==============================] - 0s 73us/step - loss: 0.6958 - accuracy: 0.4950\n",
            "Epoch 3/10\n",
            "1000/1000 [==============================] - 0s 74us/step - loss: 0.6944 - accuracy: 0.4950\n",
            "Epoch 4/10\n",
            "1000/1000 [==============================] - 0s 73us/step - loss: 0.6930 - accuracy: 0.4930\n",
            "Epoch 5/10\n",
            "1000/1000 [==============================] - 0s 77us/step - loss: 0.6917 - accuracy: 0.5150\n",
            "Epoch 6/10\n",
            "1000/1000 [==============================] - 0s 74us/step - loss: 0.6901 - accuracy: 0.5410\n",
            "Epoch 7/10\n",
            "1000/1000 [==============================] - 0s 72us/step - loss: 0.6899 - accuracy: 0.5360\n",
            "Epoch 8/10\n",
            "1000/1000 [==============================] - 0s 83us/step - loss: 0.6895 - accuracy: 0.5350\n",
            "Epoch 9/10\n",
            "1000/1000 [==============================] - 0s 73us/step - loss: 0.6886 - accuracy: 0.5450\n",
            "Epoch 10/10\n",
            "1000/1000 [==============================] - 0s 71us/step - loss: 0.6873 - accuracy: 0.5480\n",
            "1000/1000 [==============================] - 0s 61us/step\n",
            "0.5619999766349792\n"
          ],
          "name": "stdout"
        }
      ]
    }
  ]
}