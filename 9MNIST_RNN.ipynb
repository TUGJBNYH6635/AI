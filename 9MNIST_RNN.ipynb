{
  "nbformat": 4,
  "nbformat_minor": 0,
  "metadata": {
    "colab": {
      "name": "9MNIST_RNN.ipynb",
      "provenance": [],
      "collapsed_sections": []
    },
    "kernelspec": {
      "name": "python3",
      "display_name": "Python 3"
    },
    "accelerator": "GPU"
  },
  "cells": [
    {
      "cell_type": "code",
      "metadata": {
        "id": "y4pHBLtLY6oM",
        "colab_type": "code",
        "outputId": "7b5e2fda-1c02-416f-e2c6-aff0cbe91152",
        "colab": {
          "base_uri": "https://localhost:8080/",
          "height": 999
        }
      },
      "source": [
        "from keras.datasets import mnist\n",
        "from keras.layers import Dense, LSTM\n",
        "from keras.utils import to_categorical\n",
        "from keras.models import Sequential\n",
        "\n",
        "#parameters for LSTM\n",
        "nb_lstm_outputs = 30  \n",
        "nb_time_steps = 28  \n",
        "nb_input_vector = 28 \n",
        "\n",
        "#data preprocessing: tofloat32, normalization, one_hot encoding\n",
        "#把float32整理起來，控制在0,1之間顯示圖表\n",
        "(x_train, y_train), (x_test, y_test) = mnist.load_data()\n",
        "x_train = x_train.astype('float32')\n",
        "x_test = x_test.astype('float32')\n",
        "x_train /= 255\n",
        "x_test /= 255\n",
        "y_train = to_categorical(y_train, num_classes=10)\n",
        "y_test = to_categorical(y_test, num_classes=10)\n",
        "\n",
        "#build model\n",
        "# 建立簡單的線性執行的模型\n",
        "model = Sequential()\n",
        "model.add(LSTM(units=nb_lstm_outputs, input_shape=(nb_time_steps, nb_input_vector)))\n",
        "model.add(Dense(10, activation='softmax'))\n",
        "\n",
        "#compile:loss, optimizer, metrics\n",
        "#以compile函數定義損失函數(loss)、優化函數(optimizer)及成效衡量(mertrics)方式\n",
        "model.compile(loss='categorical_crossentropy', optimizer='adam', metrics=['accuracy'])\n",
        "#train: epcoch, batch_size\n",
        "#進行訓練\n",
        "model.fit(x_train, y_train, epochs=20, batch_size=128, verbose=1)\n",
        "#輸出模型各層的参數狀况\n",
        "model.summary()\n",
        "#顯示訓練結果\n",
        "score = model.evaluate(x_test, y_test,batch_size=128, verbose=1)\n",
        "print(score)"
      ],
      "execution_count": 2,
      "outputs": [
        {
          "output_type": "stream",
          "text": [
            "Epoch 1/20\n",
            "60000/60000 [==============================] - 25s 418us/step - loss: 1.0297 - accuracy: 0.6691\n",
            "Epoch 2/20\n",
            "60000/60000 [==============================] - 23s 387us/step - loss: 0.3447 - accuracy: 0.8989\n",
            "Epoch 3/20\n",
            "60000/60000 [==============================] - 23s 384us/step - loss: 0.2345 - accuracy: 0.9329\n",
            "Epoch 4/20\n",
            "60000/60000 [==============================] - 23s 387us/step - loss: 0.1856 - accuracy: 0.9465\n",
            "Epoch 5/20\n",
            "60000/60000 [==============================] - 23s 376us/step - loss: 0.1566 - accuracy: 0.9546\n",
            "Epoch 6/20\n",
            "60000/60000 [==============================] - 22s 365us/step - loss: 0.1373 - accuracy: 0.9595\n",
            "Epoch 7/20\n",
            "60000/60000 [==============================] - 22s 361us/step - loss: 0.1216 - accuracy: 0.9643\n",
            "Epoch 8/20\n",
            "60000/60000 [==============================] - 22s 363us/step - loss: 0.1106 - accuracy: 0.9675\n",
            "Epoch 9/20\n",
            "60000/60000 [==============================] - 22s 371us/step - loss: 0.1030 - accuracy: 0.9694\n",
            "Epoch 10/20\n",
            "60000/60000 [==============================] - 22s 366us/step - loss: 0.0970 - accuracy: 0.9712\n",
            "Epoch 11/20\n",
            "60000/60000 [==============================] - 22s 366us/step - loss: 0.0876 - accuracy: 0.9734\n",
            "Epoch 12/20\n",
            "60000/60000 [==============================] - 22s 367us/step - loss: 0.0831 - accuracy: 0.9753\n",
            "Epoch 13/20\n",
            "60000/60000 [==============================] - 22s 364us/step - loss: 0.0795 - accuracy: 0.9767\n",
            "Epoch 14/20\n",
            "60000/60000 [==============================] - 22s 362us/step - loss: 0.0752 - accuracy: 0.9773\n",
            "Epoch 15/20\n",
            "60000/60000 [==============================] - 22s 365us/step - loss: 0.0702 - accuracy: 0.9786\n",
            "Epoch 16/20\n",
            "60000/60000 [==============================] - 22s 365us/step - loss: 0.0656 - accuracy: 0.9802\n",
            "Epoch 17/20\n",
            "60000/60000 [==============================] - 22s 364us/step - loss: 0.0623 - accuracy: 0.9810\n",
            "Epoch 18/20\n",
            "60000/60000 [==============================] - 22s 362us/step - loss: 0.0607 - accuracy: 0.9815\n",
            "Epoch 19/20\n",
            "60000/60000 [==============================] - 22s 364us/step - loss: 0.0574 - accuracy: 0.9828\n",
            "Epoch 20/20\n",
            "60000/60000 [==============================] - 22s 364us/step - loss: 0.0537 - accuracy: 0.9834\n",
            "Model: \"sequential_2\"\n",
            "_________________________________________________________________\n",
            "Layer (type)                 Output Shape              Param #   \n",
            "=================================================================\n",
            "lstm_2 (LSTM)                (None, 30)                7080      \n",
            "_________________________________________________________________\n",
            "dense_1 (Dense)              (None, 10)                310       \n",
            "=================================================================\n",
            "Total params: 7,390\n",
            "Trainable params: 7,390\n",
            "Non-trainable params: 0\n",
            "_________________________________________________________________\n",
            "10000/10000 [==============================] - 0s 48us/step\n",
            "[0.07961285403221846, 0.9779999852180481]\n"
          ],
          "name": "stdout"
        }
      ]
    },
    {
      "cell_type": "code",
      "metadata": {
        "id": "IgkuuENb-FrR",
        "colab_type": "code",
        "colab": {}
      },
      "source": [
        ""
      ],
      "execution_count": 0,
      "outputs": []
    }
  ]
}